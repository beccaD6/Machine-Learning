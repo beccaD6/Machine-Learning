{
 "cells": [
  {
   "cell_type": "code",
   "execution_count": 19,
   "metadata": {},
   "outputs": [
    {
     "name": "stdout",
     "output_type": "stream",
     "text": [
      "   5  0  0.1  0.2  0.3  0.4  0.5  0.6  0.7  0.8  ...  0.608  0.609  0.610  \\\n",
      "0  0  0    0    0    0    0    0    0    0    0  ...      0      0      0   \n",
      "1  4  0    0    0    0    0    0    0    0    0  ...      0      0      0   \n",
      "2  1  0    0    0    0    0    0    0    0    0  ...      0      0      0   \n",
      "3  9  0    0    0    0    0    0    0    0    0  ...      0      0      0   \n",
      "4  2  0    0    0    0    0    0    0    0    0  ...      0      0      0   \n",
      "\n",
      "   0.611  0.612  0.613  0.614  0.615  0.616  0.617  \n",
      "0      0      0      0      0      0      0      0  \n",
      "1      0      0      0      0      0      0      0  \n",
      "2      0      0      0      0      0      0      0  \n",
      "3      0      0      0      0      0      0      0  \n",
      "4      0      0      0      0      0      0      0  \n",
      "\n",
      "[5 rows x 785 columns]\n",
      "(2000, 785)\n",
      "(1600, 784) (1600,)\n",
      "(400, 784) (400,)\n",
      "4\n"
     ]
    },
    {
     "data": {
      "image/png": "[encoded data removed]",
      "text/plain": [
       "<Figure size 432x288 with 1 Axes>"
      ]
     },
     "metadata": {
      "needs_background": "light"
     },
     "output_type": "display_data"
    }
   ],
   "source": [
    "import pandas as pd\n",
    "import datetime\n",
    "import numpy as np\n",
    "import matplotlib.pyplot as plt\n",
    "from sklearn.neighbors import KNeighborsClassifier\n",
    "from sklearn.metrics import confusion_matrix\n",
    "\n",
    "#MINST dataset -- from Kaggle:\n",
    "\n",
    "#\" The data files train.csv and test.csv contain gray-scale images of hand-drawn digits, from zero through nine.\n",
    "#Each image is 28 pixels in height and 28 pixels in width, for a total of 784 pixels in total. Each pixel has a \n",
    "#single pixel-value associated with it, indicating the lightness or darkness of that pixel, with higher numbers meaning\n",
    "#darker. This pixel-value is an integer between 0 and 255, inclusive.\n",
    "\n",
    "#The 28x28 pixels are flattened into 784 columns, one per pixel value. The training data set, (train.csv), has 785 columns.\n",
    "#The first column, called \"label\", is the digit that was drawn by the \n",
    "#user. The rest of the columns contain the pixel-values of the associated image. \"\n",
    "\n",
    "\n",
    "#In this notebook I implement knn from scratch using euclidean distance as the distance metric and then \n",
    "#find a k that makes classification most accurate for each digit.\n",
    "\n",
    "def distance(x1, x2):\n",
    "    #return np.linalg.norm(x1-x2)\n",
    "     # return sum(abs(x1-x2)) #vectors x1,x2\n",
    "    d = np.sqrt(((x1-x2)**2).sum())\n",
    "    return d\n",
    "  \n",
    "\n",
    "\n",
    "def knn(X_train, y_train, xt, k=7):\n",
    "    #find k nearest neighbours \n",
    "    distances = [] # stores tuples with (y val, dist) with dist and prediction for all training points from xt\n",
    "    neighbors = [] #list of row/sample #s\n",
    "    votes = {}\n",
    "    for i in range(0, X_train.shape[0]):\n",
    "        dist = distance(X_train[i], xt)\n",
    "        distances.append((y_train[i], dist))\n",
    "    distances.sort(key=lambda item: item[1]) # sort by distance\n",
    "    \n",
    "    #get the most popular y value/ class \n",
    "    #indexes=np.argsort(dists)[:k]\n",
    "    for i in range(k): #0...k, first k sorted by increasing distance\n",
    "        #print distances[x]\n",
    "        #neighbors.append(distances[x][0])\n",
    "        y_val=distances[i][0]\n",
    "        if y_val not in votes:\n",
    "            votes[y_val]=1\n",
    "        else:\n",
    "            votes[y_val]+=1\n",
    "   #now we get the y values/votes for th ek nearest neighbours and return the most popular!\n",
    "    sorted_votes=[(k,v) for k, v in sorted(votes.items(), key=lambda item: item[1])]\n",
    "    #get the top key\n",
    "    return sorted_votes[0][0]\n",
    " \n",
    "def get_acc(kx):\n",
    "    preds = []\n",
    "    # get all predictions for each test sample\n",
    "    for i in range(0,X_test.shape[0]):\n",
    "        preds.append(knn(X_train, y_train, X_test[i], kx))\n",
    "    preds = np.asarray(preds)\n",
    "    \n",
    "    # count number of correct predictions, get percentage\n",
    "    return 100*float((y_test == preds).sum())/preds.shape[0]       \n",
    "        \n",
    "\n",
    "df = pd.read_csv('train.csv')\n",
    "print(df.head())\n",
    "\n",
    "#take first 2000 rows from data set \n",
    "data = df.values[:2000]\n",
    "print (data.shape)\n",
    "\n",
    "#split into train and test set\n",
    "split = int(0.8 * data.shape[0])\n",
    "\n",
    "#train data does not include the label column\n",
    "X_train = data[:split, 1:]\n",
    "X_test = data[split:, 1:]\n",
    "y_train = data[:split, 0]\n",
    "y_test = data[split:, 0]\n",
    "\n",
    "print (X_train.shape, y_train.shape)\n",
    "print (X_test.shape, y_test.shape)\n",
    "\n",
    "#illustrating that reshaping a row of data set into 28x28 grid creates the original image\n",
    "plt.figure(0)\n",
    "plt.imshow(X_train[1].reshape((28, 28)), cmap='gray', interpolation='none')\n",
    "print (y_train[1])\n",
    "plt.show()\n",
    "\n",
    "\n",
    "\n"
   ]
  },
  {
   "cell_type": "code",
   "execution_count": 24,
   "metadata": {},
   "outputs": [
    {
     "name": "stdout",
     "output_type": "stream",
     "text": [
      "Result: \n",
      "91.5\n",
      "[1, 2, 3, 4, 5, 6, 7, 8, 9]\n",
      "[91.5, 91.5, 81.5, 76.5, 70.0, 64.75, 59.75, 56.0, 53.25]\n"
     ]
    },
    {
     "data": {
      "image/png": "[encoded data removed]",
      "text/plain": [
       "<Figure size 432x288 with 1 Axes>"
      ]
     },
     "metadata": {
      "needs_background": "light"
     },
     "output_type": "display_data"
    },
    {
     "name": "stdout",
     "output_type": "stream",
     "text": [
      "Confusion_matrix: \n",
      "[[39  0  0  0  0  0  1  0  0  0]\n",
      " [ 0 40  0  0  0  0  0  0  0  0]\n",
      " [ 2  1 37  0  0  0  0  2  0  0]\n",
      " [ 0  0  0 36  0  2  0  0  0  1]\n",
      " [ 1  3  0  0 35  0  0  1  0  3]\n",
      " [ 1  0  0  2  0 30  0  0  0  1]\n",
      " [ 0  1  0  0  0  1 44  0  0  0]\n",
      " [ 0  1  0  0  0  0  0 36  0  2]\n",
      " [ 0  0  0  1  1  0  0  0 28  1]\n",
      " [ 1  1  0  1  4  0  0  0  0 39]]\n"
     ]
    }
   ],
   "source": [
    "print(\"Result: \")\n",
    "print(get_acc(1)) \n",
    "acc=[]\n",
    "for k in range(1,10):\n",
    "    acc.append(get_acc(k))\n",
    "k=[k for k in range(1,10)]\n",
    "\n",
    "# k=1 gives the best accuracy because the digit images are very similar in the training/test sets \n",
    "# the image is likely to be the same as the first neighbour\n",
    "plt.plot(k,acc)\n",
    "plt.show()\n",
    "\n",
    "\n",
    "#confusion matrix \n",
    "#we see all true 1s (row 1) were predicted correctly (col 1)\n",
    "#we see alot of true 9s were misclassified\n",
    "n = KNeighborsClassifier(n_neighbors=3)\n",
    "n.fit(X_train, y_train)\n",
    "y_pred = n.predict(X_test)\n",
    "print(\"Confusion_matrix: \\n\"+str(confusion_matrix(y_test, y_pred)))"
   ]
  },
  {
   "cell_type": "code",
   "execution_count": null,
   "metadata": {},
   "outputs": [],
   "source": []
  }
 ],
 "metadata": {
  "kernelspec": {
   "display_name": "Python 3",
   "language": "python",
   "name": "python3"
  },
  "language_info": {
   "codemirror_mode": {
    "name": "ipython",
    "version": 3
   },
   "file_extension": ".py",
   "mimetype": "text/x-python",
   "name": "python",
   "nbconvert_exporter": "python",
   "pygments_lexer": "ipython3",
   "version": "3.7.4"
  }
 },
 "nbformat": 4,
 "nbformat_minor": 2
}
